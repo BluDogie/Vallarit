{
 "cells": [
  {
   "cell_type": "markdown",
   "id": "3b827259-0cfe-460b-97d1-59484e5e1bb3",
   "metadata": {},
   "source": [
    "# EXPERIMENT 2 - NUMERICAL PYTHON (NUMPY)"
   ]
  },
  {
   "cell_type": "markdown",
   "id": "a0f1c425-e66d-46d1-be24-a075f49d6815",
   "metadata": {},
   "source": [
    "Vallarit, Marick Andrei T.\n",
    "2ECE-C"
   ]
  },
  {
   "cell_type": "markdown",
   "id": "d4eb0ab9-57f6-4925-ae4b-8ebe24a92643",
   "metadata": {},
   "source": [
    "### NORMALIZATION PROBLEM:"
   ]
  },
  {
   "cell_type": "code",
   "execution_count": 37,
   "id": "7c3b4215-5249-41de-80f3-7029bfa9d704",
   "metadata": {},
   "outputs": [],
   "source": [
    "import numpy as np # Import numpy library\n",
    "\n",
    "X = np.random.rand(5, 5) # Construct a 5 x 5 array with random integers\n",
    "\n",
    "# Normalize the array\n",
    "Xmean = X.mean() \n",
    "Xstd = X.std()\n",
    "Xnormalized = (X - Xmean) / Xstd\n",
    "\n",
    "np.save('X_normalized.npy', Xnormalized) # Save the result of the normalized array as a file named X_normalized.npy"
   ]
  },
  {
   "cell_type": "markdown",
   "id": "f65e1be3-d6ae-484c-a43a-033b2f602f9f",
   "metadata": {},
   "source": [
    "### DIVISIBLE BY 3 PROBLEM:"
   ]
  },
  {
   "cell_type": "code",
   "execution_count": 69,
   "id": "0bfb86e5-ee88-49b3-bb3e-293cd2386836",
   "metadata": {},
   "outputs": [],
   "source": [
    "import numpy as np # Import numpy library\n",
    "\n",
    "A = np.arange(1,101) # Get the first positive integers from 1 - 100\n",
    "Aarray = A.reshape(10,10) ** 2 # Construct a 10x10 array, then get the squares of each integers\n",
    "\n",
    "divisible = Aarray[Aarray % 3 == 0] # Get the numbers that are divisible by 3\n",
    "\n",
    "np.save('div_by_3.npy', divisible) # Save the result as a file named div_by_3.npy"
   ]
  },
  {
   "cell_type": "code",
   "execution_count": null,
   "id": "597c4313-f5f6-4c9f-8501-06609e702963",
   "metadata": {},
   "outputs": [],
   "source": []
  }
 ],
 "metadata": {
  "kernelspec": {
   "display_name": "Python 3 (ipykernel)",
   "language": "python",
   "name": "python3"
  },
  "language_info": {
   "codemirror_mode": {
    "name": "ipython",
    "version": 3
   },
   "file_extension": ".py",
   "mimetype": "text/x-python",
   "name": "python",
   "nbconvert_exporter": "python",
   "pygments_lexer": "ipython3",
   "version": "3.12.4"
  }
 },
 "nbformat": 4,
 "nbformat_minor": 5
}
