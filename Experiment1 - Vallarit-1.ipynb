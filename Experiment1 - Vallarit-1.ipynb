{
 "cells": [
  {
   "cell_type": "code",
   "execution_count": 41,
   "id": "0e7e3a34-827e-4eb8-a29c-7a34c23ec065",
   "metadata": {},
   "outputs": [
    {
     "name": "stdin",
     "output_type": "stream",
     "text": [
      "Type a word:  hello\n"
     ]
    },
    {
     "name": "stdout",
     "output_type": "stream",
     "text": [
      "ehllo\n"
     ]
    }
   ],
   "source": [
    "def sortstring(s): # define a function\n",
    "    string = input(\"Type a word: \") # let user input their word of choice\n",
    "    return ''.join(sorted(string)) # use return '' to return the space character and the whole output, used syntax .join to concatenate the user's inputted string\n",
    "    # used sorted() function to sort strings into alphabetical order\n",
    "    \n",
    "sortedstring = sortstring(string) # set sortedstring variable's value to the user's inputted string or word with the custom function\n",
    "print(sortedstring) # print the final output"
   ]
  },
  {
   "cell_type": "code",
   "execution_count": 121,
   "id": "ece45711-14ea-42f1-9bb4-02f2b0e59175",
   "metadata": {},
   "outputs": [
    {
     "name": "stdin",
     "output_type": "stream",
     "text": [
      "Type a word:  mad\n"
     ]
    },
    {
     "name": "stdout",
     "output_type": "stream",
     "text": [
      ">:(\n"
     ]
    }
   ],
   "source": [
    "def replace_emoticons(sentence): # define a function\n",
    "    emoticons = {\"smile\": \":)\", \"grin\": \":D\", \"sad\": \":((\", \"mad\": \">:(\"} # define the elements (key pairs) of the dictionary\n",
    "\n",
    "    sentence = input(\"Type a word: \") # let user input their word of choice\n",
    "    words = sentence.split() # the split syntax is called on the sentence \n",
    "    new_sentence = [] # define a new list that stores the appended sentence in the for loop\n",
    "\n",
    "    for word in words: # use for loop \n",
    "        if word in emoticons: # use if loop to check whether the sentence has an element in the emoticons dictionary\n",
    "            new_sentence.append(emoticons[word]) # if an element was found, append the emoticons to the word/s that is present in the sentence given by the user to the new_sentence list\n",
    "            \n",
    "        else:\n",
    "            new_sentence.append(word) # if an element was not found, just append the whole sentence into the new_sentence list\n",
    "    \n",
    "    return \" \".join(new_sentence) # use return '' to return the space character and the whole output, used syntax .join to concatenate the user's inputted string \n",
    "\n",
    "print(replace_emoticons(sentence)) # print the final output"
   ]
  },
  {
   "cell_type": "code",
   "execution_count": 123,
   "id": "f51aadb2-1aec-4cf9-bf15-56d8bf13f361",
   "metadata": {},
   "outputs": [
    {
     "name": "stdout",
     "output_type": "stream",
     "text": [
      "First: 1\n",
      "Middle: [2, 3, 4, 5]\n",
      "Last: 6\n"
     ]
    }
   ],
   "source": [
    "writeyourcodehere = [1,2,3,4,5,6] # set writeyourcodehere variable's list elements to 1,2,3,4,5,6\n",
    "\n",
    "first, *middle, last = writeyourcodehere # set the unpacking syntax\n",
    "\n",
    "print(\"First:\", first) # print the first element\n",
    "print(\"Middle:\", middle) # print the middle element/s\n",
    "print(\"Last:\", last) # print the last element"
   ]
  },
  {
   "cell_type": "code",
   "execution_count": null,
   "id": "40a51c65-c69c-46ca-abd1-2368b5f8827d",
   "metadata": {},
   "outputs": [],
   "source": []
  }
 ],
 "metadata": {
  "kernelspec": {
   "display_name": "Python 3 (ipykernel)",
   "language": "python",
   "name": "python3"
  },
  "language_info": {
   "codemirror_mode": {
    "name": "ipython",
    "version": 3
   },
   "file_extension": ".py",
   "mimetype": "text/x-python",
   "name": "python",
   "nbconvert_exporter": "python",
   "pygments_lexer": "ipython3",
   "version": "3.12.4"
  }
 },
 "nbformat": 4,
 "nbformat_minor": 5
}
